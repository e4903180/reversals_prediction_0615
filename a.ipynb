{
 "cells": [
  {
   "cell_type": "code",
   "execution_count": null,
   "metadata": {},
   "outputs": [],
   "source": [
    "# Create a figure with two subplots\n",
    "fig, ax = plt.subplots(2, 2, figsize=(12, 4))\n",
    "fig.suptitle('Online Training Curve')\n",
    "# Plot loss on the second subplot\n",
    "ax[0, 0].plot(online_history['loss'], label='Training Loss')\n",
    "ax[0, 0].set_title('Online training loss for the first epoch in each training session')\n",
    "ax[0, 0].set_xlabel('Time')\n",
    "ax[0, 0].set_ylabel('Loss')\n",
    "ax[0, 0].legend()\n",
    "ax[0, 0].grid(True)\n",
    "\n",
    "# Plot accuracy on the first subplot\n",
    "ax[0, 1].plot(online_history['accuracy'], color='tab:red', label='Training Accuracy')\n",
    "ax[0, 1].set_title('Online Training Accuracy for the first epoch in each training session')\n",
    "ax[0, 1].set_xlabel('Time')\n",
    "ax[0, 1].set_ylabel('Accuracy')\n",
    "ax[0, 1].set_ylim([0, 1])\n",
    "ax[0, 1].legend()\n",
    "ax[0, 1].grid(True)\n",
    "\n",
    "ax[1, 0].plot(online_history['loss'], color='tab:blue', label='Training Loss')\n",
    "ax[1, 0].set_title('Online Training Loss for each epoch in each training session')\n",
    "ax[1, 0].set_xlabel('epoch')\n",
    "ax[1, 0].set_ylabel('Loss')\n",
    "ax[1, 0].legend()\n",
    "ax[1, 0].grid(True)\n",
    "\n",
    "# Plot accuracy on the first subplot\n",
    "ax[1, 1].plot(online_history['accuracy'], color='tab:red', label='Training Accuracy')\n",
    "ax[1, 1].set_title('Online Training Accuracy for each epoch in each training session')\n",
    "ax[1, 1].set_xlabel('epoch')\n",
    "ax[1, 1].set_ylabel('Accuracy')\n",
    "ax[1, 1].set_ylim([0, 1])\n",
    "ax[1, 1].legend()\n",
    "ax[1, 1].grid(True)\n",
    "# Adjust the layout\n",
    "plt.title('Online Training Curve')\n",
    "plt.tight_layout()\n",
    "if save_path:\n",
    "    plt.savefig(save_path)\n",
    "if show:\n",
    "    plt.show()\n",
    "else:\n",
    "    plt.close()"
   ]
  }
 ],
 "metadata": {
  "language_info": {
   "name": "python"
  }
 },
 "nbformat": 4,
 "nbformat_minor": 2
}
