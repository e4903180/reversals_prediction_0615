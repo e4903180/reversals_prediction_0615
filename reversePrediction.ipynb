{
 "cells": [
  {
   "cell_type": "code",
   "execution_count": 3,
   "metadata": {},
   "outputs": [],
   "source": [
    "import json\n",
    "from preprocessor.preprocessor_pytorch import Preprocessor\n",
    "from model.model_pytorch import Model\n",
    "from postprocessor.postprocessor import Postprocesser\n",
    "from evaluator.evaluator_pytorch import Evaluator\n",
    "import numpy as np\n",
    "import pandas as pd\n",
    "import tensorflow as tf\n",
    "import random\n",
    "import torch\n",
    "import torch.nn as nn\n",
    "import torch.nn.functional as F\n",
    "import tqdm\n",
    "import os\n",
    "import time\n",
    "import pickle\n",
    "\n",
    "class ReversePrediction():\n",
    "    def set_seed(self, seed_value):\n",
    "        np.random.seed(seed_value)\n",
    "        tf.random.set_seed(seed_value)\n",
    "        random.seed(seed_value)\n",
    "        torch.manual_seed(seed_value)\n",
    "\n",
    "    def run(self, params):\n",
    "        self.set_seed(42)\n",
    "        preprocessor = Preprocessor(params)\n",
    "        X_train, y_train, X_val, y_val, X_test, y_test, test_dates, X_newest, x_newest_date, y_date, test_dataset = preprocessor.get_multiple_data()\n",
    "\n",
    "        start_time = time.time()\n",
    "        model_wrapper = Model(params=params)\n",
    "        model, history, y_preds, online_history = \\\n",
    "            model_wrapper.run(X_train, y_train, X_test, y_test, X_val, y_val)\n",
    "        end_time = time.time()\n",
    "        execution_time = end_time - start_time\n",
    "\n",
    "        y_preds = torch.tensor(y_preds, dtype=torch.float32)\n",
    "\n",
    "        y_pred_newest = model.forward(X_newest)\n",
    "        y_pred_newest = torch.tensor(y_pred_newest, dtype=torch.float32)\n",
    "\n",
    "        evaluator = Evaluator(params)\n",
    "        results = evaluator.get_results(y_train, y_val, y_test, y_preds, test_dataset,\n",
    "                                        test_dates, history, online_history,\n",
    "                                        show=False)\n",
    "        results.update({'execution_time': execution_time})\n",
    "\n",
    "        results_json = json.dumps(results, indent=4)\n",
    "        with open(params.get('summary_save_path'), 'w') as f:\n",
    "            f.write(results_json)\n",
    "            \n",
    "        return results"
   ]
  },
  {
   "cell_type": "code",
   "execution_count": 4,
   "metadata": {},
   "outputs": [
    {
     "name": "stdout",
     "output_type": "stream",
     "text": [
      "[*********************100%***********************]  1 of 1 completed\n"
     ]
    },
    {
     "name": "stderr",
     "output_type": "stream",
     "text": [
      "c:\\Users\\e4903\\Desktop\\code\\2023_hw\\web\\saferTrader\\stock_project\\revpred\\lib\\reversePrediction\\preprocessor\\preprocessor_pytorch.py:148: FutureWarning: Slicing a positional slice with .loc is not supported, and will raise TypeError in a future version.  Use .loc with labels or .iloc with positions instead.\n",
      "  data.loc[prev_idx:idx, 'Trend'] = 0\n",
      "c:\\Users\\e4903\\Desktop\\code\\2023_hw\\web\\saferTrader\\stock_project\\revpred\\lib\\reversePrediction\\preprocessor\\preprocessor_pytorch.py:145: FutureWarning: Slicing a positional slice with .loc is not supported, and will raise TypeError in a future version.  Use .loc with labels or .iloc with positions instead.\n",
      "  data.loc[prev_idx:idx, 'Trend'] = 1\n",
      "c:\\Users\\e4903\\Desktop\\code\\2023_hw\\web\\saferTrader\\stock_project\\revpred\\lib\\reversePrediction\\preprocessor\\preprocessor_pytorch.py:152: FutureWarning: Slicing a positional slice with .loc is not supported, and will raise TypeError in a future version.  Use .loc with labels or .iloc with positions instead.\n",
      "  data.loc[prev_idx:idx, 'Trend'] = 0\n",
      "c:\\Users\\e4903\\Desktop\\code\\2023_hw\\web\\saferTrader\\stock_project\\revpred\\lib\\reversePrediction\\preprocessor\\preprocessor_pytorch.py:155: FutureWarning: Slicing a positional slice with .loc is not supported, and will raise TypeError in a future version.  Use .loc with labels or .iloc with positions instead.\n",
      "  data.loc[prev_idx:idx, 'Trend'] = 1\n"
     ]
    },
    {
     "name": "stdout",
     "output_type": "stream",
     "text": [
      "[*********************100%***********************]  1 of 1 completed\n",
      "[*********************100%***********************]  1 of 1 completed\n",
      "[*********************100%***********************]  1 of 1 completed\n",
      "[*********************100%***********************]  1 of 1 completed\n",
      "[*********************100%***********************]  1 of 1 completed\n"
     ]
    },
    {
     "name": "stderr",
     "output_type": "stream",
     "text": [
      "c:\\Users\\e4903\\Desktop\\code\\2023_hw\\web\\saferTrader\\stock_project\\revpred\\lib\\reversePrediction\\preprocessor\\preprocessor_pytorch.py:148: FutureWarning: Slicing a positional slice with .loc is not supported, and will raise TypeError in a future version.  Use .loc with labels or .iloc with positions instead.\n",
      "  data.loc[prev_idx:idx, 'Trend'] = 0\n",
      "c:\\Users\\e4903\\Desktop\\code\\2023_hw\\web\\saferTrader\\stock_project\\revpred\\lib\\reversePrediction\\preprocessor\\preprocessor_pytorch.py:145: FutureWarning: Slicing a positional slice with .loc is not supported, and will raise TypeError in a future version.  Use .loc with labels or .iloc with positions instead.\n",
      "  data.loc[prev_idx:idx, 'Trend'] = 1\n",
      "c:\\Users\\e4903\\Desktop\\code\\2023_hw\\web\\saferTrader\\stock_project\\revpred\\lib\\reversePrediction\\preprocessor\\preprocessor_pytorch.py:152: FutureWarning: Slicing a positional slice with .loc is not supported, and will raise TypeError in a future version.  Use .loc with labels or .iloc with positions instead.\n",
      "  data.loc[prev_idx:idx, 'Trend'] = 0\n",
      "c:\\Users\\e4903\\Desktop\\code\\2023_hw\\web\\saferTrader\\stock_project\\revpred\\lib\\reversePrediction\\preprocessor\\preprocessor_pytorch.py:155: FutureWarning: Slicing a positional slice with .loc is not supported, and will raise TypeError in a future version.  Use .loc with labels or .iloc with positions instead.\n",
      "  data.loc[prev_idx:idx, 'Trend'] = 1\n"
     ]
    },
    {
     "name": "stdout",
     "output_type": "stream",
     "text": [
      "[*********************100%***********************]  1 of 1 completed\n",
      "[*********************100%***********************]  1 of 1 completed\n",
      "[*********************100%***********************]  1 of 1 completed\n",
      "[*********************100%***********************]  1 of 1 completed\n",
      "[*********************100%***********************]  1 of 1 completed\n"
     ]
    },
    {
     "name": "stderr",
     "output_type": "stream",
     "text": [
      "c:\\Users\\e4903\\Desktop\\code\\2023_hw\\web\\saferTrader\\stock_project\\revpred\\lib\\reversePrediction\\preprocessor\\preprocessor_pytorch.py:148: FutureWarning: Slicing a positional slice with .loc is not supported, and will raise TypeError in a future version.  Use .loc with labels or .iloc with positions instead.\n",
      "  data.loc[prev_idx:idx, 'Trend'] = 0\n",
      "c:\\Users\\e4903\\Desktop\\code\\2023_hw\\web\\saferTrader\\stock_project\\revpred\\lib\\reversePrediction\\preprocessor\\preprocessor_pytorch.py:145: FutureWarning: Slicing a positional slice with .loc is not supported, and will raise TypeError in a future version.  Use .loc with labels or .iloc with positions instead.\n",
      "  data.loc[prev_idx:idx, 'Trend'] = 1\n",
      "c:\\Users\\e4903\\Desktop\\code\\2023_hw\\web\\saferTrader\\stock_project\\revpred\\lib\\reversePrediction\\preprocessor\\preprocessor_pytorch.py:155: FutureWarning: Slicing a positional slice with .loc is not supported, and will raise TypeError in a future version.  Use .loc with labels or .iloc with positions instead.\n",
      "  data.loc[prev_idx:idx, 'Trend'] = 1\n",
      "c:\\Users\\e4903\\Desktop\\code\\2023_hw\\web\\saferTrader\\stock_project\\revpred\\lib\\reversePrediction\\preprocessor\\preprocessor_pytorch.py:152: FutureWarning: Slicing a positional slice with .loc is not supported, and will raise TypeError in a future version.  Use .loc with labels or .iloc with positions instead.\n",
      "  data.loc[prev_idx:idx, 'Trend'] = 0\n"
     ]
    },
    {
     "name": "stdout",
     "output_type": "stream",
     "text": [
      "[*********************100%***********************]  1 of 1 completed\n",
      "[*********************100%***********************]  1 of 1 completed\n",
      "[*********************100%***********************]  1 of 1 completed\n",
      "[*********************100%***********************]  1 of 1 completed\n",
      "[*********************100%***********************]  1 of 1 completed\n"
     ]
    },
    {
     "name": "stderr",
     "output_type": "stream",
     "text": [
      "c:\\Users\\e4903\\Desktop\\code\\2023_hw\\web\\saferTrader\\stock_project\\revpred\\lib\\reversePrediction\\preprocessor\\preprocessor_pytorch.py:148: FutureWarning: Slicing a positional slice with .loc is not supported, and will raise TypeError in a future version.  Use .loc with labels or .iloc with positions instead.\n",
      "  data.loc[prev_idx:idx, 'Trend'] = 0\n",
      "c:\\Users\\e4903\\Desktop\\code\\2023_hw\\web\\saferTrader\\stock_project\\revpred\\lib\\reversePrediction\\preprocessor\\preprocessor_pytorch.py:145: FutureWarning: Slicing a positional slice with .loc is not supported, and will raise TypeError in a future version.  Use .loc with labels or .iloc with positions instead.\n",
      "  data.loc[prev_idx:idx, 'Trend'] = 1\n",
      "c:\\Users\\e4903\\Desktop\\code\\2023_hw\\web\\saferTrader\\stock_project\\revpred\\lib\\reversePrediction\\preprocessor\\preprocessor_pytorch.py:155: FutureWarning: Slicing a positional slice with .loc is not supported, and will raise TypeError in a future version.  Use .loc with labels or .iloc with positions instead.\n",
      "  data.loc[prev_idx:idx, 'Trend'] = 1\n",
      "c:\\Users\\e4903\\Desktop\\code\\2023_hw\\web\\saferTrader\\stock_project\\revpred\\lib\\reversePrediction\\preprocessor\\preprocessor_pytorch.py:152: FutureWarning: Slicing a positional slice with .loc is not supported, and will raise TypeError in a future version.  Use .loc with labels or .iloc with positions instead.\n",
      "  data.loc[prev_idx:idx, 'Trend'] = 0\n"
     ]
    },
    {
     "name": "stdout",
     "output_type": "stream",
     "text": [
      "[*********************100%***********************]  1 of 1 completed\n",
      "[*********************100%***********************]  1 of 1 completed\n",
      "[*********************100%***********************]  1 of 1 completed\n",
      "[*********************100%***********************]  1 of 1 completed\n",
      "[*********************100%***********************]  1 of 1 completed\n"
     ]
    },
    {
     "name": "stderr",
     "output_type": "stream",
     "text": [
      "c:\\Users\\e4903\\Desktop\\code\\2023_hw\\web\\saferTrader\\stock_project\\revpred\\lib\\reversePrediction\\preprocessor\\preprocessor_pytorch.py:148: FutureWarning: Slicing a positional slice with .loc is not supported, and will raise TypeError in a future version.  Use .loc with labels or .iloc with positions instead.\n",
      "  data.loc[prev_idx:idx, 'Trend'] = 0\n",
      "c:\\Users\\e4903\\Desktop\\code\\2023_hw\\web\\saferTrader\\stock_project\\revpred\\lib\\reversePrediction\\preprocessor\\preprocessor_pytorch.py:145: FutureWarning: Slicing a positional slice with .loc is not supported, and will raise TypeError in a future version.  Use .loc with labels or .iloc with positions instead.\n",
      "  data.loc[prev_idx:idx, 'Trend'] = 1\n",
      "c:\\Users\\e4903\\Desktop\\code\\2023_hw\\web\\saferTrader\\stock_project\\revpred\\lib\\reversePrediction\\preprocessor\\preprocessor_pytorch.py:152: FutureWarning: Slicing a positional slice with .loc is not supported, and will raise TypeError in a future version.  Use .loc with labels or .iloc with positions instead.\n",
      "  data.loc[prev_idx:idx, 'Trend'] = 0\n",
      "c:\\Users\\e4903\\Desktop\\code\\2023_hw\\web\\saferTrader\\stock_project\\revpred\\lib\\reversePrediction\\preprocessor\\preprocessor_pytorch.py:155: FutureWarning: Slicing a positional slice with .loc is not supported, and will raise TypeError in a future version.  Use .loc with labels or .iloc with positions instead.\n",
      "  data.loc[prev_idx:idx, 'Trend'] = 1\n"
     ]
    },
    {
     "name": "stdout",
     "output_type": "stream",
     "text": [
      "[*********************100%***********************]  1 of 1 completed\n",
      "[*********************100%***********************]  1 of 1 completed\n",
      "[*********************100%***********************]  1 of 1 completed\n",
      "[*********************100%***********************]  1 of 1 completed\n",
      "Training set shape: torch.Size([216, 64, 30])\n",
      "Validation set shape: torch.Size([7, 64, 30])\n",
      "Test set shape: torch.Size([45, 64, 30])\n"
     ]
    },
    {
     "name": "stderr",
     "output_type": "stream",
     "text": [
      "\n",
      "\u001b[A\n",
      "\u001b[A\n",
      "\u001b[A\n",
      "\u001b[A\n",
      "\u001b[A\n",
      "  1%|          | 10/1000 [00:00<01:03, 15.62it/s]\n",
      "C:\\Users\\e4903\\AppData\\Local\\Temp\\ipykernel_18584\\3731148982.py:39: UserWarning: To copy construct from a tensor, it is recommended to use sourceTensor.clone().detach() or sourceTensor.clone().detach().requires_grad_(True), rather than torch.tensor(sourceTensor).\n",
      "  y_pred_newest = torch.tensor(y_pred_newest, dtype=torch.float32)\n",
      "c:\\Users\\e4903\\Desktop\\code\\2023_hw\\web\\saferTrader\\stock_project\\revpred\\lib\\reversePrediction\\evaluator\\evaluator_pytorch.py:287: UserWarning: Boolean Series key will be reindexed to match DataFrame index.\n",
      "  buy_signals = trade_signals.loc[x_start:x_stop][(\n",
      "c:\\Users\\e4903\\Desktop\\code\\2023_hw\\web\\saferTrader\\stock_project\\revpred\\lib\\reversePrediction\\evaluator\\evaluator_pytorch.py:296: UserWarning: Boolean Series key will be reindexed to match DataFrame index.\n",
      "  sell_signals = trade_signals.loc[x_start:x_stop][(\n",
      "No artists with labels found to put in legend.  Note that artists whose label start with an underscore are ignored when legend() is called with no argument.\n"
     ]
    },
    {
     "name": "stdout",
     "output_type": "stream",
     "text": [
      "[*********************100%***********************]  1 of 1 completed\n"
     ]
    },
    {
     "name": "stderr",
     "output_type": "stream",
     "text": [
      "c:\\Users\\e4903\\Desktop\\code\\2023_hw\\web\\saferTrader\\stock_project\\revpred\\lib\\reversePrediction\\preprocessor\\preprocessor_pytorch.py:148: FutureWarning: Slicing a positional slice with .loc is not supported, and will raise TypeError in a future version.  Use .loc with labels or .iloc with positions instead.\n",
      "  data.loc[prev_idx:idx, 'Trend'] = 0\n",
      "c:\\Users\\e4903\\Desktop\\code\\2023_hw\\web\\saferTrader\\stock_project\\revpred\\lib\\reversePrediction\\preprocessor\\preprocessor_pytorch.py:145: FutureWarning: Slicing a positional slice with .loc is not supported, and will raise TypeError in a future version.  Use .loc with labels or .iloc with positions instead.\n",
      "  data.loc[prev_idx:idx, 'Trend'] = 1\n",
      "c:\\Users\\e4903\\Desktop\\code\\2023_hw\\web\\saferTrader\\stock_project\\revpred\\lib\\reversePrediction\\preprocessor\\preprocessor_pytorch.py:152: FutureWarning: Slicing a positional slice with .loc is not supported, and will raise TypeError in a future version.  Use .loc with labels or .iloc with positions instead.\n",
      "  data.loc[prev_idx:idx, 'Trend'] = 0\n",
      "c:\\Users\\e4903\\Desktop\\code\\2023_hw\\web\\saferTrader\\stock_project\\revpred\\lib\\reversePrediction\\preprocessor\\preprocessor_pytorch.py:155: FutureWarning: Slicing a positional slice with .loc is not supported, and will raise TypeError in a future version.  Use .loc with labels or .iloc with positions instead.\n",
      "  data.loc[prev_idx:idx, 'Trend'] = 1\n"
     ]
    },
    {
     "name": "stdout",
     "output_type": "stream",
     "text": [
      "[*********************100%***********************]  1 of 1 completed\n",
      "[*********************100%***********************]  1 of 1 completed\n",
      "[*********************100%***********************]  1 of 1 completed\n",
      "[*********************100%***********************]  1 of 1 completed\n",
      "[*********************100%***********************]  1 of 1 completed\n"
     ]
    },
    {
     "name": "stderr",
     "output_type": "stream",
     "text": [
      "c:\\Users\\e4903\\Desktop\\code\\2023_hw\\web\\saferTrader\\stock_project\\revpred\\lib\\reversePrediction\\preprocessor\\preprocessor_pytorch.py:148: FutureWarning: Slicing a positional slice with .loc is not supported, and will raise TypeError in a future version.  Use .loc with labels or .iloc with positions instead.\n",
      "  data.loc[prev_idx:idx, 'Trend'] = 0\n",
      "c:\\Users\\e4903\\Desktop\\code\\2023_hw\\web\\saferTrader\\stock_project\\revpred\\lib\\reversePrediction\\preprocessor\\preprocessor_pytorch.py:145: FutureWarning: Slicing a positional slice with .loc is not supported, and will raise TypeError in a future version.  Use .loc with labels or .iloc with positions instead.\n",
      "  data.loc[prev_idx:idx, 'Trend'] = 1\n",
      "c:\\Users\\e4903\\Desktop\\code\\2023_hw\\web\\saferTrader\\stock_project\\revpred\\lib\\reversePrediction\\preprocessor\\preprocessor_pytorch.py:152: FutureWarning: Slicing a positional slice with .loc is not supported, and will raise TypeError in a future version.  Use .loc with labels or .iloc with positions instead.\n",
      "  data.loc[prev_idx:idx, 'Trend'] = 0\n",
      "c:\\Users\\e4903\\Desktop\\code\\2023_hw\\web\\saferTrader\\stock_project\\revpred\\lib\\reversePrediction\\preprocessor\\preprocessor_pytorch.py:155: FutureWarning: Slicing a positional slice with .loc is not supported, and will raise TypeError in a future version.  Use .loc with labels or .iloc with positions instead.\n",
      "  data.loc[prev_idx:idx, 'Trend'] = 1\n"
     ]
    },
    {
     "name": "stdout",
     "output_type": "stream",
     "text": [
      "[*********************100%***********************]  1 of 1 completed\n",
      "[*********************100%***********************]  1 of 1 completed\n",
      "[*********************100%***********************]  1 of 1 completed\n",
      "[*********************100%***********************]  1 of 1 completed\n",
      "[*********************100%***********************]  1 of 1 completed\n"
     ]
    },
    {
     "name": "stderr",
     "output_type": "stream",
     "text": [
      "c:\\Users\\e4903\\Desktop\\code\\2023_hw\\web\\saferTrader\\stock_project\\revpred\\lib\\reversePrediction\\preprocessor\\preprocessor_pytorch.py:148: FutureWarning: Slicing a positional slice with .loc is not supported, and will raise TypeError in a future version.  Use .loc with labels or .iloc with positions instead.\n",
      "  data.loc[prev_idx:idx, 'Trend'] = 0\n",
      "c:\\Users\\e4903\\Desktop\\code\\2023_hw\\web\\saferTrader\\stock_project\\revpred\\lib\\reversePrediction\\preprocessor\\preprocessor_pytorch.py:145: FutureWarning: Slicing a positional slice with .loc is not supported, and will raise TypeError in a future version.  Use .loc with labels or .iloc with positions instead.\n",
      "  data.loc[prev_idx:idx, 'Trend'] = 1\n",
      "c:\\Users\\e4903\\Desktop\\code\\2023_hw\\web\\saferTrader\\stock_project\\revpred\\lib\\reversePrediction\\preprocessor\\preprocessor_pytorch.py:155: FutureWarning: Slicing a positional slice with .loc is not supported, and will raise TypeError in a future version.  Use .loc with labels or .iloc with positions instead.\n",
      "  data.loc[prev_idx:idx, 'Trend'] = 1\n",
      "c:\\Users\\e4903\\Desktop\\code\\2023_hw\\web\\saferTrader\\stock_project\\revpred\\lib\\reversePrediction\\preprocessor\\preprocessor_pytorch.py:152: FutureWarning: Slicing a positional slice with .loc is not supported, and will raise TypeError in a future version.  Use .loc with labels or .iloc with positions instead.\n",
      "  data.loc[prev_idx:idx, 'Trend'] = 0\n"
     ]
    },
    {
     "name": "stdout",
     "output_type": "stream",
     "text": [
      "[*********************100%***********************]  1 of 1 completed\n",
      "[*********************100%***********************]  1 of 1 completed\n",
      "[*********************100%***********************]  1 of 1 completed\n",
      "[*********************100%***********************]  1 of 1 completed\n",
      "[*********************100%***********************]  1 of 1 completed\n"
     ]
    },
    {
     "name": "stderr",
     "output_type": "stream",
     "text": [
      "c:\\Users\\e4903\\Desktop\\code\\2023_hw\\web\\saferTrader\\stock_project\\revpred\\lib\\reversePrediction\\preprocessor\\preprocessor_pytorch.py:148: FutureWarning: Slicing a positional slice with .loc is not supported, and will raise TypeError in a future version.  Use .loc with labels or .iloc with positions instead.\n",
      "  data.loc[prev_idx:idx, 'Trend'] = 0\n",
      "c:\\Users\\e4903\\Desktop\\code\\2023_hw\\web\\saferTrader\\stock_project\\revpred\\lib\\reversePrediction\\preprocessor\\preprocessor_pytorch.py:145: FutureWarning: Slicing a positional slice with .loc is not supported, and will raise TypeError in a future version.  Use .loc with labels or .iloc with positions instead.\n",
      "  data.loc[prev_idx:idx, 'Trend'] = 1\n",
      "c:\\Users\\e4903\\Desktop\\code\\2023_hw\\web\\saferTrader\\stock_project\\revpred\\lib\\reversePrediction\\preprocessor\\preprocessor_pytorch.py:155: FutureWarning: Slicing a positional slice with .loc is not supported, and will raise TypeError in a future version.  Use .loc with labels or .iloc with positions instead.\n",
      "  data.loc[prev_idx:idx, 'Trend'] = 1\n",
      "c:\\Users\\e4903\\Desktop\\code\\2023_hw\\web\\saferTrader\\stock_project\\revpred\\lib\\reversePrediction\\preprocessor\\preprocessor_pytorch.py:152: FutureWarning: Slicing a positional slice with .loc is not supported, and will raise TypeError in a future version.  Use .loc with labels or .iloc with positions instead.\n",
      "  data.loc[prev_idx:idx, 'Trend'] = 0\n"
     ]
    },
    {
     "name": "stdout",
     "output_type": "stream",
     "text": [
      "[*********************100%***********************]  1 of 1 completed\n",
      "[*********************100%***********************]  1 of 1 completed\n",
      "[*********************100%***********************]  1 of 1 completed\n",
      "[*********************100%***********************]  1 of 1 completed\n",
      "[*********************100%***********************]  1 of 1 completed\n"
     ]
    },
    {
     "name": "stderr",
     "output_type": "stream",
     "text": [
      "c:\\Users\\e4903\\Desktop\\code\\2023_hw\\web\\saferTrader\\stock_project\\revpred\\lib\\reversePrediction\\preprocessor\\preprocessor_pytorch.py:148: FutureWarning: Slicing a positional slice with .loc is not supported, and will raise TypeError in a future version.  Use .loc with labels or .iloc with positions instead.\n",
      "  data.loc[prev_idx:idx, 'Trend'] = 0\n",
      "c:\\Users\\e4903\\Desktop\\code\\2023_hw\\web\\saferTrader\\stock_project\\revpred\\lib\\reversePrediction\\preprocessor\\preprocessor_pytorch.py:145: FutureWarning: Slicing a positional slice with .loc is not supported, and will raise TypeError in a future version.  Use .loc with labels or .iloc with positions instead.\n",
      "  data.loc[prev_idx:idx, 'Trend'] = 1\n",
      "c:\\Users\\e4903\\Desktop\\code\\2023_hw\\web\\saferTrader\\stock_project\\revpred\\lib\\reversePrediction\\preprocessor\\preprocessor_pytorch.py:152: FutureWarning: Slicing a positional slice with .loc is not supported, and will raise TypeError in a future version.  Use .loc with labels or .iloc with positions instead.\n",
      "  data.loc[prev_idx:idx, 'Trend'] = 0\n",
      "c:\\Users\\e4903\\Desktop\\code\\2023_hw\\web\\saferTrader\\stock_project\\revpred\\lib\\reversePrediction\\preprocessor\\preprocessor_pytorch.py:155: FutureWarning: Slicing a positional slice with .loc is not supported, and will raise TypeError in a future version.  Use .loc with labels or .iloc with positions instead.\n",
      "  data.loc[prev_idx:idx, 'Trend'] = 1\n"
     ]
    },
    {
     "name": "stdout",
     "output_type": "stream",
     "text": [
      "[*********************100%***********************]  1 of 1 completed\n",
      "[*********************100%***********************]  1 of 1 completed\n",
      "[*********************100%***********************]  1 of 1 completed\n",
      "[*********************100%***********************]  1 of 1 completed\n",
      "Training set shape: torch.Size([216, 64, 30])\n",
      "Validation set shape: torch.Size([7, 64, 30])\n",
      "Test set shape: torch.Size([45, 64, 30])\n"
     ]
    },
    {
     "name": "stderr",
     "output_type": "stream",
     "text": [
      "\n",
      "\u001b[A\n",
      "\u001b[A\n",
      "\u001b[A\n",
      "\u001b[A\n",
      "\u001b[A\n",
      "  1%|          | 10/1000 [00:00<01:20, 12.25it/s]\n",
      "C:\\Users\\e4903\\AppData\\Local\\Temp\\ipykernel_18584\\3731148982.py:39: UserWarning: To copy construct from a tensor, it is recommended to use sourceTensor.clone().detach() or sourceTensor.clone().detach().requires_grad_(True), rather than torch.tensor(sourceTensor).\n",
      "  y_pred_newest = torch.tensor(y_pred_newest, dtype=torch.float32)\n",
      "c:\\Users\\e4903\\Desktop\\code\\2023_hw\\web\\saferTrader\\stock_project\\revpred\\lib\\reversePrediction\\evaluator\\evaluator_pytorch.py:287: UserWarning: Boolean Series key will be reindexed to match DataFrame index.\n",
      "  buy_signals = trade_signals.loc[x_start:x_stop][(\n",
      "c:\\Users\\e4903\\Desktop\\code\\2023_hw\\web\\saferTrader\\stock_project\\revpred\\lib\\reversePrediction\\evaluator\\evaluator_pytorch.py:296: UserWarning: Boolean Series key will be reindexed to match DataFrame index.\n",
      "  sell_signals = trade_signals.loc[x_start:x_stop][(\n",
      "No artists with labels found to put in legend.  Note that artists whose label start with an underscore are ignored when legend() is called with no argument.\n"
     ]
    }
   ],
   "source": [
    "open('progress.txt', 'w').close()\n",
    "open('log.txt', 'w').close()\n",
    "root_path = 'DNN_Projects'\n",
    "for floder in tqdm.tqdm(os.listdir(root_path), file=open('progress.txt', 'a')):\n",
    "    first_path = os.path.join(root_path, floder)\n",
    "    for subfloder in tqdm.tqdm(os.listdir(first_path), file=open('progress.txt', 'a')):\n",
    "        second_path = os.path.join(first_path, subfloder)\n",
    "        print(second_path, file=open('progress.txt', 'a'))\n",
    "        params = json.load(open(os.path.join(second_path, 'parameters.json'), 'r'))\n",
    "        reversePrediction = ReversePrediction()\n",
    "        reversePrediction.set_seed(42)\n",
    "        try: \n",
    "            model_summary, trend_confusion_matrix_info, reversed_trend_confusion_matrix_info, signal_confusion_matrix_info, \\\n",
    "            roc_auc, pred_days_difference_results, pred_days_difference_abs_mean, pred_in_advance, backtesting_report, trade_summary, execution_time = reversePrediction.run(params)\n",
    "            trend_confusion_matrix_info = trend_confusion_matrix_info.to_json()\n",
    "            reversed_trend_confusion_matrix_info = reversed_trend_confusion_matrix_info.to_json()\n",
    "            signal_confusion_matrix_info = signal_confusion_matrix_info.to_json()\n",
    "            roc_auc_json = json.dumps(roc_auc)\n",
    "            model_summary_json = json.dumps(model_summary)\n",
    "            backtesting_report_json = json.dumps(backtesting_report)\n",
    "            pred_days_difference_results_json = pred_days_difference_results.to_json()\n",
    "            pred_days_difference_abs_mean_json = json.dumps(pred_days_difference_abs_mean)\n",
    "            pred_in_advance_json = json.dumps(pred_in_advance)\n",
    "            trade_summary_json = json.dumps(trade_summary)\n",
    "            execution_time_json = json.dumps(execution_time)\n",
    "\n",
    "            response = {\n",
    "                'msg': 'Received!',\n",
    "                'usingData': params,\n",
    "                'model_summary': model_summary_json,\n",
    "                'trend_confusion_matrix_info': trend_confusion_matrix_info,\n",
    "                'reversed_trend_confusion_matrix_info': reversed_trend_confusion_matrix_info,\n",
    "                'signal_confusion_matrix_info': signal_confusion_matrix_info,\n",
    "                'roc_auc': roc_auc_json,\n",
    "                'pred_days_difference_results': pred_days_difference_results_json,\n",
    "                'pred_days_difference_abs_mean': pred_days_difference_abs_mean_json,\n",
    "                'pred_in_advance': pred_in_advance_json,\n",
    "                'backtesting_report': backtesting_report_json,\n",
    "                'trade_summary': trade_summary_json,\n",
    "                'execution_time': execution_time_json,\n",
    "            }\n",
    "            \n",
    "            with open(params['save_path']['summary_save_path'], 'w') as f:\n",
    "                json.dump(response, f)\n",
    "                \n",
    "            # response\n",
    "            print('done', file=open('progress.txt', 'a'))\n",
    "        except Exception as e:\n",
    "            print(e, file=open('progress.txt', 'a'))\n",
    "            continue\n"
   ]
  }
 ],
 "metadata": {
  "kernelspec": {
   "display_name": "myenv",
   "language": "python",
   "name": "python3"
  },
  "language_info": {
   "codemirror_mode": {
    "name": "ipython",
    "version": 3
   },
   "file_extension": ".py",
   "mimetype": "text/x-python",
   "name": "python",
   "nbconvert_exporter": "python",
   "pygments_lexer": "ipython3",
   "version": "3.10.7"
  }
 },
 "nbformat": 4,
 "nbformat_minor": 2
}
